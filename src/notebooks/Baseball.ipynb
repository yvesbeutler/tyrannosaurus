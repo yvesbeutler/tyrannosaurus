{
 "cells": [
  {
   "cell_type": "markdown",
   "metadata": {},
   "source": [
    "## Data Visualization\n",
    "\n",
    "This notebook demonstrates the different visualization techniques Python and its libraries offer.\n",
    "\n",
    "### Lahman's Baseball Database\n",
    "\n",
    "The baseball dataset from Lahman can be downloaded here: http://www.seanlahman.com/baseball-archive/statistics"
   ]
  },
  {
   "cell_type": "code",
   "execution_count": 86,
   "metadata": {},
   "outputs": [],
   "source": [
    "from matplotlib import pyplot as plt\n",
    "import sqlite3\n",
    "\n",
    "db_path = '../../data/lahman2016.sqlite'\n",
    "\n",
    "# Connecting to the sql database\n",
    "conn = sqlite3.connect(db_path)\n",
    "c = conn.cursor()"
   ]
  },
  {
   "cell_type": "markdown",
   "metadata": {},
   "source": [
    "#### 1. Which player hit the most home runs in 2002?\n",
    "\n",
    "In 2002, Alexander Rodriguez scored a total of 57 home runs while he was playing for the Texas Rangers."
   ]
  },
  {
   "cell_type": "code",
   "execution_count": 89,
   "metadata": {},
   "outputs": [
    {
     "name": "stdout",
     "output_type": "stream",
     "text": [
      "Alexander Enmanuel Rodriguez scored 57 homeruns while playing for Texas Rangers\n"
     ]
    }
   ],
   "source": [
    "query = \"\"\"\n",
    "            SELECT m.nameGiven, m.nameLast, t.name, max(b.HR) AS homeruns\n",
    "            FROM Batting AS b\n",
    "            LEFT JOIN MASTER AS m ON b.playerID = m.playerID\n",
    "            LEFT JOIN Teams AS t ON b.teamID = t.teamID\n",
    "            WHERE b.yearID = '2002'\n",
    "            AND   t.yearID = '2002'\n",
    "        \"\"\"\n",
    "\n",
    "c.execute(query)\n",
    "\n",
    "most_homeruns = c.fetchall()[0]\n",
    "\n",
    "print(f\"{most_homeruns[0]} {most_homeruns[1]} scored {most_homeruns[3]} homeruns while playing for {most_homeruns[2]}\")"
   ]
  },
  {
   "cell_type": "markdown",
   "metadata": {},
   "source": [
    "#### 2. Which team spent the most / least money on player salaries in 2002?\n",
    "\n",
    "useful fields:\n",
    "- t.Rank\n",
    "- s.salary"
   ]
  },
  {
   "cell_type": "code",
   "execution_count": 115,
   "metadata": {},
   "outputs": [
    {
     "name": "stdout",
     "output_type": "stream",
     "text": [
      "\n",
      "        The New York Yankees spent a total of 125928583 US dollars\n",
      "        and finished their season at rank 1\n",
      "       \n",
      "\n",
      "        The Tampa Bay Devil Rays spent a total of 34380000 US dollars\n",
      "        and finished their season at rank 5\n",
      "       \n"
     ]
    }
   ],
   "source": [
    "query = \"\"\"\n",
    "            SELECT t.teamID, t.name, t.Rank, sum(s.salary) as TotalSalary\n",
    "            FROM Teams AS t\n",
    "            LEFT JOIN Salaries AS s ON t.teamID = s.teamID\n",
    "            WHERE t.yearID = '2002'\n",
    "            AND   s.yearID = '2002'\n",
    "            GROUP BY t.teamID\n",
    "            ORDER BY TotalSalary desc\n",
    "        \"\"\"\n",
    "\n",
    "c.execute(query)\n",
    "\n",
    "team_salaries = c.fetchall()\n",
    "\n",
    "most_spent  = team_salaries[0]\n",
    "least_spent = team_salaries[len(team_salaries)-1]\n",
    "\n",
    "# for currency formatting\n",
    "import locale\n",
    "\n",
    "\n",
    "\n",
    "print(f\"\"\"\n",
    "        The {most_spent[1]} spent a total of {most_spent[3]} US dollars\n",
    "        and finished their season at rank {most_spent[2]}\n",
    "       \"\"\")\n",
    "\n",
    "print(f\"\"\"\n",
    "        The {least_spent[1]} spent a total of {least_spent[3]} US dollars\n",
    "        and finished their season at rank {least_spent[2]}\n",
    "       \"\"\")\n",
    "\n",
    "#print(team_salaries)"
   ]
  },
  {
   "cell_type": "code",
   "execution_count": null,
   "metadata": {},
   "outputs": [],
   "source": []
  }
 ],
 "metadata": {
  "kernelspec": {
   "display_name": "Python 3",
   "language": "python",
   "name": "python3"
  },
  "language_info": {
   "codemirror_mode": {
    "name": "ipython",
    "version": 3
   },
   "file_extension": ".py",
   "mimetype": "text/x-python",
   "name": "python",
   "nbconvert_exporter": "python",
   "pygments_lexer": "ipython3",
   "version": "3.7.2"
  }
 },
 "nbformat": 4,
 "nbformat_minor": 2
}
